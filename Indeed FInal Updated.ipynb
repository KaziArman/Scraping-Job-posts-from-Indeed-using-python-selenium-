{
 "cells": [
  {
   "cell_type": "code",
   "execution_count": null,
   "metadata": {},
   "outputs": [],
   "source": [
    "!pip install selenium"
   ]
  },
  {
   "cell_type": "code",
   "execution_count": null,
   "metadata": {},
   "outputs": [],
   "source": [
    "!pip install pandas"
   ]
  },
  {
   "cell_type": "code",
   "execution_count": null,
   "metadata": {},
   "outputs": [],
   "source": [
    "!pip install win-unicode-console"
   ]
  },
  {
   "cell_type": "code",
   "execution_count": null,
   "metadata": {},
   "outputs": [],
   "source": [
    "!pip install webdriver-manager"
   ]
  },
  {
   "cell_type": "code",
   "execution_count": null,
   "metadata": {},
   "outputs": [],
   "source": [
    "import selenium\n",
    "from selenium import webdriver\n",
    "from selenium.common.exceptions import NoSuchElementException\n",
    "from selenium.common.exceptions import TimeoutException\n",
    "import pandas as pd\n",
    "from selenium.webdriver.support import expected_conditions as EC\n",
    "from selenium.webdriver.support.ui import WebDriverWait\n",
    "from IPython.core.display import display,HTML\n",
    "from selenium.webdriver.support import expected_conditions as EC\n",
    "import time\n",
    "import string\n",
    "import os\n",
    "from webdriver_manager.chrome import ChromeDriverManager\n",
    "driver = webdriver.Chrome(ChromeDriverManager().install())\n",
    "driver.maximize_window()\n",
    "print('Done')"
   ]
  },
  {
   "cell_type": "code",
   "execution_count": null,
   "metadata": {},
   "outputs": [],
   "source": [
    "url = 'https://www.indeed.co.in/?from=gnav-jobsearch--jasx'\n",
    "driver.get(url)\n",
    "print('Done')"
   ]
  },
  {
   "cell_type": "code",
   "execution_count": null,
   "metadata": {
    "scrolled": true
   },
   "outputs": [],
   "source": [
    "keyword = 'plumber'\n",
    "k = driver.find_element_by_xpath('//*[@id=\"text-input-what\"]')\n",
    "k.send_keys(keyword)\n",
    "time.sleep(2)\n",
    "print('Done')"
   ]
  },
  {
   "cell_type": "code",
   "execution_count": null,
   "metadata": {},
   "outputs": [],
   "source": [
    "search = driver.find_element_by_xpath('//*[@id=\"whatWhereFormId\"]/div[3]/button')\n",
    "webdriver.ActionChains(driver).move_to_element(search).click(search).perform()\n",
    "driver.implicitly_wait(10)\n",
    "time.sleep(2)\n",
    "print('Done')"
   ]
  },
  {
   "cell_type": "code",
   "execution_count": null,
   "metadata": {},
   "outputs": [],
   "source": [
    "Dic = {}\n",
    "gc=pd.DataFrame(data=Dic,index=[0], columns=['Post','Company Name','Location','Salary','Qualification','Experience','Apply Link','Job Info'])\n",
    "print('Done')"
   ]
  },
  {
   "cell_type": "code",
   "execution_count": null,
   "metadata": {
    "scrolled": true
   },
   "outputs": [],
   "source": [
    "q = 0\n",
    "u = 0\n",
    "for url in range(50):\n",
    "    url = 'https://www.indeed.co.in/jobs?q='+ str(keyword) +'&sort=date&fromage=last&start='+ str(q) +''\n",
    "    driver.get(url)\n",
    "    q = q + 10\n",
    "    time.sleep(5)\n",
    "    i = 0\n",
    "    for p in range(15):\n",
    "        try:\n",
    "            try:\n",
    "                cmpny = driver.find_elements_by_css_selector('div.slider_container > div > div.slider_item > div > table.jobCard_mainContent > tbody > tr > td > div.heading6.company_location.tapItem-gutter > pre > span.companyName') \n",
    "                cmpny = cmpny[i].text\n",
    "                driver.implicitly_wait(10)\n",
    "                time.sleep(4)\n",
    "            except:\n",
    "                cmpny = 'NOT AVAILABLE'\n",
    "            try:\n",
    "                \n",
    "                loc = driver.find_elements_by_css_selector('div.slider_container > div > div.slider_item > div > table.jobCard_mainContent > tbody > tr > td > div.heading6.company_location.tapItem-gutter > pre > div')\n",
    "                loc = loc[i].text\n",
    "                driver.implicitly_wait(10)\n",
    "                time.sleep(4)\n",
    "                print(loc)\n",
    "            except:\n",
    "                loc = 'NOT AVAILABLE'\n",
    "            try:\n",
    "                post = driver.find_elements_by_css_selector('div.slider_container > div > div.slider_item > div > table.jobCard_mainContent > tbody > tr > td > div.heading4.color-text-primary.singleLineTitle.tapItem-gutter > h2 > span')\n",
    "                post = post[i].text\n",
    "                print(post)\n",
    "                driver.implicitly_wait(10)\n",
    "                #print(i)\n",
    "                time.sleep(4)\n",
    "            except:\n",
    "                post = 'NOT AVAILABLE'\n",
    "            \n",
    "            clks= driver.find_elements_by_css_selector('div.slider_container > div > div.slider_item > div > table.jobCard_mainContent > tbody > tr > td > div.heading4.color-text-primary.singleLineTitle.tapItem-gutter > h2 > span')[i]\n",
    "            driver.execute_script(\"arguments[0].click();\", clks)\n",
    "            time.sleep(5)\n",
    "            \n",
    "            \n",
    "            try:\n",
    "                sal = driver.find_elements_by_css_selector('div.slider_container > div > div.slider_item > div > table.jobCard_mainContent > tbody > tr > td > div.heading6.tapItem-gutter.metadataContainer > div > span')\n",
    "                sal = sal[i].text\n",
    "                print(sal)\n",
    "                driver.implicitly_wait(10)\n",
    "                time.sleep(4)\n",
    "            except:\n",
    "                sal = 'Negotiable'\n",
    "                print(sal)\n",
    "            \n",
    "            try:\n",
    "                link = driver.current_url\n",
    "                print(link)\n",
    "                driver.implicitly_wait(20)\n",
    "                time.sleep(3)\n",
    "                \n",
    "            except:\n",
    "                try:\n",
    "                    \n",
    "                    li = driver.find_elements_by_css_selector('a.tapItem.fs-unmask.result.job_31cef8b84f3a88f0.resultWithShelf.sponTapItem.desktop')\n",
    "                    link = li[i].get_attribute('href')\n",
    "                    print(link)\n",
    "                    driver.implicitly_wait(10)\n",
    "                    time.sleep(4)\n",
    "                except IndexError:\n",
    "                    link = \"Not Collectable\"\n",
    "            \n",
    "            try:\n",
    "                #jd2 = driver.find_element_by_css_selector('div#vjs-desc') #vjs-desc > div:nth-child(2)\n",
    "                jd = driver.find_elements_by_css_selector('div.job-snippet > ul > li')\n",
    "                jd = jd[i].text\n",
    "                #jd2 = jd2.text\n",
    "                #print(jd2)\n",
    "                print(jd)\n",
    "                time.sleep(4)\n",
    "                driver.implicitly_wait(10)\n",
    "            except:\n",
    "                jd = \"NOT AVAILABLE\"\n",
    "            \n",
    "            with open('lets_welder.txt','w',encoding='cp1252', errors='ignore') as g:\n",
    "                p= str(jd)\n",
    "                g.write(p)\n",
    "                \n",
    "            with open('lets_welder.txt',encoding='cp850', errors='replace') as fo:\n",
    "                f = fo.readlines()\n",
    "                l = len(f)\n",
    "                find = 'Qualification'\n",
    "                find2 = 'Experience'\n",
    "                k=[]\n",
    "                h=[]\n",
    "                n=[]\n",
    "                k.clear()\n",
    "                h.clear()\n",
    "                n.clear()\n",
    "                a = ''\n",
    "                b = ''\n",
    "                c = ''\n",
    "\n",
    "                for w in range(l):\n",
    "                    if find in f[w]:\n",
    "                        h.append(f[w])\n",
    "                        a = \"\".join(h)\n",
    "                        a = a.replace(\"\\n\",\"\")\n",
    "                        a = a.replace(\"''\",\"\")\n",
    "                        print(a)\n",
    "                    elif find2 in f[w]: \n",
    "                        n.append(f[w])\n",
    "                        b = \"\".join(n)\n",
    "                        b = b.replace(\"\\n\",\"\")\n",
    "                        b = b.replace(\"''\",\"\")\n",
    "                        print(b)\n",
    "                    else:\n",
    "                        k.append(f[w])\n",
    "                        c = \"\".join(k)\n",
    "                        c = c.replace(\"\\n\",'*')\n",
    "                        c = c.replace('*','\\n')\n",
    "                        c = c.replace(\"''\",\"\")\n",
    "                        w = \"<pre>\"\n",
    "                        v = \"</pre>\"\n",
    "                        c = w + c + v\n",
    "                        time.sleep(4)\n",
    "\n",
    "            Dic = {'Post':post,'Company Name':cmpny,'Location':loc,'Salary':sal,'Job Info':c,'Qualification':a,'Experience':b,'Apply Link':link}\n",
    "            \n",
    "\n",
    "            gc = gc.append(Dic, ignore_index=True)\n",
    "            \n",
    "            i = i + 1\n",
    "            print(gc)\n",
    "            gc.to_excel('jobs_'+str(keyword)+'.xlsx')\n",
    "            time.sleep(2)\n",
    "            os.remove('lets_welder.txt')\n",
    "               \n",
    "        except NoSuchElementException as e:\n",
    "            continue \n",
    "            \n",
    "        except IndexError as x:\n",
    "            driver.get(url)\n",
    "            i = 0\n",
    "            time.sleep(2)\n",
    "            continue\n",
    "            \n",
    "        except TimeoutException as t:\n",
    "            time.sleep(900)\n",
    "            continue "
   ]
  },
  {
   "cell_type": "code",
   "execution_count": null,
   "metadata": {},
   "outputs": [],
   "source": []
  }
 ],
 "metadata": {
  "kernelspec": {
   "display_name": "Python 3",
   "language": "python",
   "name": "python3"
  },
  "language_info": {
   "codemirror_mode": {
    "name": "ipython",
    "version": 3
   },
   "file_extension": ".py",
   "mimetype": "text/x-python",
   "name": "python",
   "nbconvert_exporter": "python",
   "pygments_lexer": "ipython3",
   "version": "3.8.5"
  }
 },
 "nbformat": 4,
 "nbformat_minor": 4
}
